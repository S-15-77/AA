{
  "nbformat": 4,
  "nbformat_minor": 0,
  "metadata": {
    "colab": {
      "provenance": []
    },
    "kernelspec": {
      "name": "python3",
      "display_name": "Python 3"
    },
    "language_info": {
      "name": "python"
    }
  },
  "cells": [
    {
      "cell_type": "code",
      "execution_count": null,
      "metadata": {
        "id": "d13_emVJ7cJt"
      },
      "outputs": [],
      "source": [
        "import numpy as np"
      ]
    },
    {
      "cell_type": "code",
      "source": [
        "def encrypt(text,key):\n",
        "  plain_text = text.upper().replace(\" \",\"\")\n",
        "  key_size = key.shape[0]\n",
        "\n",
        "  padding = (key_size - len(plain_text)) % key_size\n",
        "\n",
        "  plain_text += 'X' * padding\n",
        "  plain_arr = []\n",
        "  for i in range(0,len(plain_text),key_size):\n",
        "    plain_arr += [plain_text[i:i+key_size]]\n",
        "\n",
        "  cipher_text = \"\"\n",
        "  for ele in plain_arr:\n",
        "    plain_num_arr = np.array([ord(c) - 65 for c in ele])\n",
        "\n",
        "    encrypt_vec = np.matmul(plain_num_arr,key) % 26\n",
        "\n",
        "    cipher_text += \"\".join(chr(value + 65) for value in encrypt_vec)\n",
        "\n",
        "  return cipher_text\n"
      ],
      "metadata": {
        "id": "smFamF0J7gcL"
      },
      "execution_count": null,
      "outputs": []
    },
    {
      "cell_type": "code",
      "source": [
        "def hill_inverse(key_matrix):\n",
        "    def inverse_matrix(determinant, adjoint_matrix):\n",
        "        inverse = (determinant * adjoint_matrix) % 26\n",
        "        return inverse\n",
        "\n",
        "    def cofactor_matrix(matrix):\n",
        "        nrows, ncols = matrix.shape\n",
        "        cofactors = np.zeros_like(matrix)\n",
        "        for i in range(nrows):\n",
        "            for j in range(ncols):\n",
        "                sub_matrix = np.delete(np.delete(matrix, i, axis=0), j, axis=1)\n",
        "                cofactors[i, j] = (-1) ** (i + j) * calculate_determinant(sub_matrix)\n",
        "        return cofactors\n",
        "\n",
        "    def calculate_determinant(matrix):\n",
        "        n = matrix.shape[0]\n",
        "        if n == 1:\n",
        "            return matrix[0, 0]\n",
        "        else:\n",
        "            det = 0\n",
        "            for j in range(n):\n",
        "                sub_matrix = np.delete(matrix, 0, axis=0)\n",
        "                sub_matrix = np.delete(sub_matrix, j, axis=1)\n",
        "                det += (-1) ** j * matrix[0, j] * calculate_determinant(sub_matrix)\n",
        "            return det % 26\n",
        "\n",
        "    def inverse_determinant(determinant):\n",
        "        for i in range(1, 26):\n",
        "            mod_value = (determinant * i) % 26\n",
        "            if mod_value == 1:\n",
        "                break\n",
        "        return i\n",
        "\n",
        "    determinant = (np.linalg.det(key_matrix)) % 26\n",
        "    adjoint_matrix = np.transpose(cofactor_matrix(key_matrix)) % 26\n",
        "    inv_determinant = inverse_determinant(determinant)\n",
        "    inverse = inverse_matrix(inv_determinant, adjoint_matrix)\n",
        "    return inverse\n",
        "\n",
        "def decrypt(ciphertext, key_matrix):\n",
        "    key_matrix_inverse = hill_inverse(key_matrix)\n",
        "    key_matrix_inverse = (key_matrix_inverse.round().astype(int) % 26)\n",
        "    blocks = [ciphertext[i:i+key_matrix_inverse.shape[0]] for i in range(0, len(ciphertext), key_matrix_inverse.shape[0])]\n",
        "    plaintext=\"\"\n",
        "    for block in blocks:\n",
        "        block_vector = np.array([ord(c) - 65 for c in block])\n",
        "        decrypted_vector = np.matmul(block_vector, key_matrix_inverse) % 26\n",
        "        plaintext += \"\".join(chr(value + 65) for value in decrypted_vector)\n",
        "    while plaintext.endswith('X'):\n",
        "        plaintext = plaintext[:-1]\n",
        "    return plaintext\n",
        "\n"
      ],
      "metadata": {
        "id": "ZokcTP2e7iXj"
      },
      "execution_count": null,
      "outputs": []
    },
    {
      "cell_type": "code",
      "source": [
        "key = np.array([[17,17,5], [21,18,21],[2,2,19]])\n",
        "plain_text = \"pay more money\"\n",
        "encrypted_text = encrypt(plain_text, key)\n",
        "decrypted_text = decrypt(encrypted_text, key)"
      ],
      "metadata": {
        "id": "FbYMCHJ8If_8"
      },
      "execution_count": null,
      "outputs": []
    },
    {
      "cell_type": "code",
      "source": [
        "print(\"Plain Text:\", plain_text)\n",
        "print(\"Encrypted Text:\", encrypted_text)\n",
        "print(\"Decrypted Text:\", decrypted_text)"
      ],
      "metadata": {
        "colab": {
          "base_uri": "https://localhost:8080/"
        },
        "id": "2GHMcq0_Ij-b",
        "outputId": "cd75f38e-731c-4d57-bcd9-1d71f9805bf6"
      },
      "execution_count": null,
      "outputs": [
        {
          "output_type": "stream",
          "name": "stdout",
          "text": [
            "Plain Text: pay more money\n",
            "Encrypted Text: RRLMWBKASPDH\n",
            "Decrypted Text: PAYMOREMONEY\n"
          ]
        }
      ]
    },
    {
      "cell_type": "code",
      "source": [],
      "metadata": {
        "id": "piwO0IkgI1OZ"
      },
      "execution_count": null,
      "outputs": []
    }
  ]
}