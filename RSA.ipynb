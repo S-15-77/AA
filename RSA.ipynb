{
  "nbformat": 4,
  "nbformat_minor": 0,
  "metadata": {
    "colab": {
      "provenance": []
    },
    "kernelspec": {
      "name": "python3",
      "display_name": "Python 3"
    },
    "language_info": {
      "name": "python"
    }
  },
  "cells": [
    {
      "cell_type": "code",
      "execution_count": 56,
      "metadata": {
        "id": "oRR16yJGDG_L"
      },
      "outputs": [],
      "source": [
        "import numpy as np\n",
        "import random"
      ]
    },
    {
      "cell_type": "code",
      "source": [
        "def multiplicative_inverse(e,z):\n",
        "  def extended_gcd(a,b):\n",
        "    if (a==0):\n",
        "      return b,0,1\n",
        "    else:\n",
        "      gcd,x,y = extended_gcd(b%a,a)\n",
        "      return gcd,y - (b//a)*x , x\n",
        "  gcd,x,y = extended_gcd(e,z)\n",
        "  if(x<0):\n",
        "    x+=z\n",
        "  return x"
      ],
      "metadata": {
        "id": "_UJlGxqfG0eU"
      },
      "execution_count": 94,
      "outputs": []
    },
    {
      "cell_type": "code",
      "source": [
        "def gcd(a, b):\n",
        "    while b != 0:\n",
        "        a, b = b, a % b\n",
        "    return a"
      ],
      "metadata": {
        "id": "gqJBb2nEV8S1"
      },
      "execution_count": 95,
      "outputs": []
    },
    {
      "cell_type": "code",
      "source": [
        "def key_generation(p,q,e):\n",
        "  n = p * q\n",
        "  z = (p-1) * (q-1)\n",
        "  # e = random.randrange(1,z)\n",
        "  # while gcd(e,z) !=1:\n",
        "  #   e = random.randrange(1,z)\n",
        "  d = multiplicative_inverse(e,z)\n",
        "  return (e,n) , (d,n)"
      ],
      "metadata": {
        "id": "rHysNj1QE49b"
      },
      "execution_count": 105,
      "outputs": []
    },
    {
      "cell_type": "code",
      "source": [
        "def encryption(public_key,message):\n",
        "  key , n = public_key\n",
        "  ct = [pow(ord(c),key,n) for c in message]\n",
        "  # print(ct)\n",
        "  return ct"
      ],
      "metadata": {
        "id": "P6VvU4tDLy_w"
      },
      "execution_count": 106,
      "outputs": []
    },
    {
      "cell_type": "code",
      "source": [
        "def decryption(private_key, ciphertext):\n",
        "    key, n = private_key\n",
        "    plain = [chr(pow(char, key, n)) for char in ciphertext]\n",
        "    # print(plain)\n",
        "    return ''.join(plain)"
      ],
      "metadata": {
        "id": "cRUYEzbyVDXL"
      },
      "execution_count": 98,
      "outputs": []
    },
    {
      "cell_type": "code",
      "source": [
        "p = 19\n",
        "q = 17\n",
        "e = 7\n",
        "m = \"Gwen Stacy\"\n",
        "# public_key , private_key = key_generation(p,q)\n",
        "public_key , private_key = key_generation(p,q,e)\n",
        "cipher_text = encryption(public_key,m)\n",
        "plain_text = decryption(private_key,cipher_text)"
      ],
      "metadata": {
        "id": "UFS9RKmtFUEC"
      },
      "execution_count": 112,
      "outputs": []
    },
    {
      "cell_type": "code",
      "source": [
        "print(\"Original Message : \", m)\n",
        "print(\"Public Key \", public_key ,'\\nPrivate Key',private_key)\n",
        "print(\"Encrypted Message: \",cipher_text)\n",
        "print(\"Decrypted Message: \",plain_text)"
      ],
      "metadata": {
        "colab": {
          "base_uri": "https://localhost:8080/"
        },
        "id": "06cgv7wLJFOb",
        "outputId": "843c8269-f2fc-4078-927e-df10add46475"
      },
      "execution_count": 113,
      "outputs": [
        {
          "output_type": "stream",
          "name": "stdout",
          "text": [
            "Original Message :  Gwen Stacy\n",
            "Public Key  (7, 323) \n",
            "Private Key (247, 323)\n",
            "Encrypted Message:  [79, 187, 237, 32, 314, 178, 261, 109, 6, 26]\n",
            "Decrypted Message:  Gwen Stacy\n"
          ]
        }
      ]
    },
    {
      "cell_type": "code",
      "source": [],
      "metadata": {
        "id": "c2NP8kDQJQeI"
      },
      "execution_count": 55,
      "outputs": []
    }
  ]
}