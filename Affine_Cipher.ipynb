{
  "nbformat": 4,
  "nbformat_minor": 0,
  "metadata": {
    "colab": {
      "provenance": []
    },
    "kernelspec": {
      "name": "python3",
      "display_name": "Python 3"
    },
    "language_info": {
      "name": "python"
    }
  },
  "cells": [
    {
      "cell_type": "code",
      "execution_count": null,
      "metadata": {
        "id": "C5NSLmVWJmDw"
      },
      "outputs": [],
      "source": [
        "import numpy as np"
      ]
    },
    {
      "cell_type": "code",
      "source": [
        "def encrypt(plain_text,a,b):\n",
        "  plain_text = plain_text.upper().replace(\" \",\"\")\n",
        "  plain_num_arr = list(np.array([ord(c) - 65 for c in plain_text]))\n",
        "  # print(type(plain_num_arr))\n",
        "  encrypt_list = []\n",
        "  for i in range(0,len(plain_num_arr)):\n",
        "    encrypt_list.append((a*plain_num_arr[i]+b) % 26)\n",
        "  # print(encrypt_list)\n",
        "  cipher_text = \"\"\n",
        "  # for ele in encrypt_list:\n",
        "  cipher_text += \"\".join(chr(value + 65) for value in encrypt_list)\n",
        "  # eqn_arr = np.array[(a* plain_num_arr[x])+ b for x in range(len(plain_num_arr))]\n",
        "  # print(eqn_arr)\n",
        "  print(cipher_text)\n",
        "  return cipher_text"
      ],
      "metadata": {
        "id": "68k-k0wiX0Z5"
      },
      "execution_count": null,
      "outputs": []
    },
    {
      "cell_type": "code",
      "source": [
        "def decrypt(cipher_text,a,b):\n",
        "  a = 26 - a;\n",
        "  ct_arr = list(np.array([ord(c) - 65 for c in cipher_text]))\n",
        "  pt_list = []\n",
        "  for i in range(len(ct_arr)):\n",
        "    pt_list.append(a *(ct_arr[i] - 8) % 26)\n",
        "    # pt_list.append((a*(ct_arr[i] - 8)) % 26)\n",
        "  # print(pt_list)\n",
        "  plain_text = \"\"\n",
        "  plain_text += \"\".join(chr(value+65) for value in pt_list)\n",
        "  print(plain_text)\n",
        "  return plain_text"
      ],
      "metadata": {
        "id": "yNLRGKP5YI7f"
      },
      "execution_count": null,
      "outputs": []
    },
    {
      "cell_type": "code",
      "source": [
        "plain_text = \"AFFINE CIPHER\"\n",
        "a = 5\n",
        "b = 8\n",
        "affine_encrypt = encrypt(plain_text,a,b)\n",
        "affine_decrypt = decrypt(affine_encrypt,a,b)"
      ],
      "metadata": {
        "colab": {
          "base_uri": "https://localhost:8080/"
        },
        "id": "oPVM6EcoXYG6",
        "outputId": "81c6c822-d7cf-43e9-d95a-8ca2e84e6f10"
      },
      "execution_count": null,
      "outputs": [
        {
          "output_type": "stream",
          "name": "stdout",
          "text": [
            "IHHWVCSWFRCP\n",
            "AFFINECIPHER\n"
          ]
        }
      ]
    },
    {
      "cell_type": "code",
      "source": [
        "print(\"Plain Text:\", plain_text)\n",
        "print(\"Encrypted Text:\", affine_encrypt)\n",
        "print(\"Decrypted Text:\", affine_decrypt)"
      ],
      "metadata": {
        "colab": {
          "base_uri": "https://localhost:8080/"
        },
        "id": "6Un9gkvke7m5",
        "outputId": "2df489dd-6286-4234-ff33-48279243af2b"
      },
      "execution_count": null,
      "outputs": [
        {
          "output_type": "stream",
          "name": "stdout",
          "text": [
            "Plain Text: AFFINE CIPHER\n",
            "Encrypted Text: IHHWVCSWFRCP\n",
            "Decrypted Text: AFFINECIPHER\n"
          ]
        }
      ]
    },
    {
      "cell_type": "code",
      "source": [],
      "metadata": {
        "id": "289KzZ_pgRob"
      },
      "execution_count": null,
      "outputs": []
    }
  ]
}