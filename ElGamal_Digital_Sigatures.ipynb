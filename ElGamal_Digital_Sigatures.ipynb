{
  "nbformat": 4,
  "nbformat_minor": 0,
  "metadata": {
    "colab": {
      "provenance": []
    },
    "kernelspec": {
      "name": "python3",
      "display_name": "Python 3"
    },
    "language_info": {
      "name": "python"
    }
  },
  "cells": [
    {
      "cell_type": "code",
      "execution_count": 12,
      "metadata": {
        "id": "86zyvoc_iKoG"
      },
      "outputs": [],
      "source": [
        "from cryptography.hazmat.primitives import hashes\n",
        "from cryptography.hazmat.primitives.asymmetric import ec\n",
        "from cryptography.hazmat.primitives.asymmetric.utils import (\n",
        "    encode_dss_signature, decode_dss_signature)\n",
        "from cryptography.hazmat.primitives.kdf.hkdf import HKDF\n",
        "from cryptography.hazmat.backends import default_backend"
      ]
    },
    {
      "cell_type": "code",
      "source": [
        "def generate_keypair():\n",
        "    private_key = ec.generate_private_key(ec.SECP256K1(), default_backend())\n",
        "    public_key = private_key.public_key()\n",
        "    return private_key, public_key\n"
      ],
      "metadata": {
        "id": "obMBY5SskWpa"
      },
      "execution_count": 13,
      "outputs": []
    },
    {
      "cell_type": "code",
      "source": [
        "def sign_message(private_key, message):\n",
        "    signature = private_key.sign(\n",
        "        message,\n",
        "        ec.ECDSA(hashes.SHA256())\n",
        "    )\n",
        "    return signature"
      ],
      "metadata": {
        "id": "xaje2lo_knNv"
      },
      "execution_count": 14,
      "outputs": []
    },
    {
      "cell_type": "code",
      "source": [
        "def verify_signature(public_key, message, signature):\n",
        "    try:\n",
        "        public_key.verify(\n",
        "            signature,\n",
        "            message,\n",
        "            ec.ECDSA(hashes.SHA256())\n",
        "        )\n",
        "        return True\n",
        "    except Exception:\n",
        "        return False"
      ],
      "metadata": {
        "id": "fDtPyWOZkqPV"
      },
      "execution_count": 15,
      "outputs": []
    },
    {
      "cell_type": "code",
      "source": [
        "# A's Key\n",
        "private_key, public_key = generate_keypair()\n",
        "message = b\"Hola Amigo!\"\n",
        "\n",
        "# A signs the message\n",
        "signature = sign_message(private_key, message)"
      ],
      "metadata": {
        "id": "adSQkOwEkr_D"
      },
      "execution_count": 16,
      "outputs": []
    },
    {
      "cell_type": "code",
      "source": [
        "# B's Key\n",
        "bala_public_key = public_key\n",
        "\n",
        "# B verifies the signature\n",
        "is_valid = verify_signature(bala_public_key, message, signature)\n",
        "\n",
        "print(\"Original Message:\", message)\n",
        "print(\"Signature:\", signature)\n",
        "print(\"Is Valid Signature?\", is_valid)"
      ],
      "metadata": {
        "colab": {
          "base_uri": "https://localhost:8080/"
        },
        "id": "AcKjPb95lBms",
        "outputId": "5659ad8b-2159-4a91-f995-f26de2c39b93"
      },
      "execution_count": 17,
      "outputs": [
        {
          "output_type": "stream",
          "name": "stdout",
          "text": [
            "Original Message: b'Hola Amigo!'\n",
            "Signature: b'0E\\x02!\\x00\\xf0s\\xe8\\xde\\xeaLB\\xc1\\xd5\\xe4A\\xcdP\\xcc\\xf5\\xb7\\xb0\\xd8\\xe5K\\x99\\xe5O\\x04{#M\\xee|x\\x7f\\x93\\x02 e\\xd1\\x94\\xd1x\\x88\\x90u\\x80T_\\x197\\xe7\\x8a\\x1e\\x8c\\x1f\\x0b\\xe8\\x9b\\x1d\\x06,i\\xf0\\x97v$\\xd3\\x04K'\n",
            "Is Valid Signature? True\n"
          ]
        }
      ]
    },
    {
      "cell_type": "code",
      "source": [
        "# Invalid test case\n",
        "modified_message = b\"Hey, buddy.\""
      ],
      "metadata": {
        "id": "jPBlBhZZlCVM"
      },
      "execution_count": 19,
      "outputs": []
    },
    {
      "cell_type": "code",
      "source": [
        "is_valid_modified = verify_signature(public_key, modified_message, signature)"
      ],
      "metadata": {
        "id": "KZX3n1tqlL-V"
      },
      "execution_count": 20,
      "outputs": []
    },
    {
      "cell_type": "code",
      "source": [
        "print(\"Invalid Test Case:\")\n",
        "print(\"Modified Message:\", modified_message)\n",
        "print(\"Original Signature:\", signature)\n",
        "print(\"Signature Validity:\", is_valid_modified)"
      ],
      "metadata": {
        "colab": {
          "base_uri": "https://localhost:8080/"
        },
        "id": "EDmzGGyHlN71",
        "outputId": "2421ece4-1f26-421e-d8f2-938a8024abcb"
      },
      "execution_count": 21,
      "outputs": [
        {
          "output_type": "stream",
          "name": "stdout",
          "text": [
            "Invalid Test Case:\n",
            "Modified Message: b'Hey, buddy.'\n",
            "Original Signature: b'0E\\x02!\\x00\\xf0s\\xe8\\xde\\xeaLB\\xc1\\xd5\\xe4A\\xcdP\\xcc\\xf5\\xb7\\xb0\\xd8\\xe5K\\x99\\xe5O\\x04{#M\\xee|x\\x7f\\x93\\x02 e\\xd1\\x94\\xd1x\\x88\\x90u\\x80T_\\x197\\xe7\\x8a\\x1e\\x8c\\x1f\\x0b\\xe8\\x9b\\x1d\\x06,i\\xf0\\x97v$\\xd3\\x04K'\n",
            "Signature Validity: False\n"
          ]
        }
      ]
    },
    {
      "cell_type": "code",
      "source": [],
      "metadata": {
        "id": "pp12B-zQlPac"
      },
      "execution_count": null,
      "outputs": []
    }
  ]
}